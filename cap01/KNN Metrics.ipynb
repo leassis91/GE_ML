{
 "cells": [
  {
   "cell_type": "markdown",
   "id": "0d733930",
   "metadata": {},
   "source": [
    "# KNN Metrics\n",
    "\n",
    "### Article source: [Some study notes on machine learning algorithms — The series](https://medium.com/comunidadeds/some-study-notes-on-machine-learning-algorithms-the-series-cd7549746f86)"
   ]
  },
  {
   "cell_type": "markdown",
   "id": "260f017f",
   "metadata": {},
   "source": [
    "## Imports"
   ]
  },
  {
   "cell_type": "code",
   "execution_count": 9,
   "id": "828d33ae",
   "metadata": {
    "ExecuteTime": {
     "end_time": "2022-10-04T18:28:04.968526Z",
     "start_time": "2022-10-04T18:28:04.965630Z"
    }
   },
   "outputs": [],
   "source": [
    "import pandas as pd\n",
    "from sklearn.neighbors import KNeighborsClassifier\n",
    "from sklearn.datasets import load_breast_cancer\n",
    "from sklearn.model_selection import GridSearchCV\n",
    "from sklearn.pipeline import Pipeline\n",
    "from scipy.spatial import distance\n",
    "\n",
    "import warnings\n",
    "warnings.filterwarnings(\"ignore\")"
   ]
  },
  {
   "cell_type": "markdown",
   "id": "baf34691",
   "metadata": {},
   "source": [
    "## Data"
   ]
  },
  {
   "cell_type": "code",
   "execution_count": 35,
   "id": "771aacb0",
   "metadata": {
    "ExecuteTime": {
     "end_time": "2022-10-04T18:35:27.019048Z",
     "start_time": "2022-10-04T18:35:27.010777Z"
    }
   },
   "outputs": [],
   "source": [
    "cancer = load_breast_cancer()\n",
    "X = cancer.data\n",
    "y = cancer.target"
   ]
  },
  {
   "cell_type": "markdown",
   "id": "c4965add",
   "metadata": {},
   "source": [
    "## Verifying KNN Distance Metrics"
   ]
  },
  {
   "cell_type": "code",
   "execution_count": 108,
   "id": "23744d44",
   "metadata": {
    "ExecuteTime": {
     "end_time": "2022-10-04T19:00:30.562895Z",
     "start_time": "2022-10-04T19:00:30.560502Z"
    }
   },
   "outputs": [],
   "source": [
    "from sklearn.neighbors import VALID_METRICS"
   ]
  },
  {
   "cell_type": "code",
   "execution_count": 19,
   "id": "893db3d3",
   "metadata": {
    "ExecuteTime": {
     "end_time": "2022-10-04T18:31:30.961231Z",
     "start_time": "2022-10-04T18:31:30.957943Z"
    }
   },
   "outputs": [
    {
     "data": {
      "text/plain": [
       "dict_keys(['ball_tree', 'kd_tree', 'brute'])"
      ]
     },
     "execution_count": 19,
     "metadata": {},
     "output_type": "execute_result"
    }
   ],
   "source": [
    "VALID_METRICS.keys()"
   ]
  },
  {
   "cell_type": "code",
   "execution_count": 30,
   "id": "9b9dcc94",
   "metadata": {
    "ExecuteTime": {
     "end_time": "2022-10-04T18:34:00.752011Z",
     "start_time": "2022-10-04T18:34:00.749156Z"
    }
   },
   "outputs": [
    {
     "name": "stdout",
     "output_type": "stream",
     "text": [
      "We have 27 distance metrics in KNN sklearn class.\n"
     ]
    }
   ],
   "source": [
    "print (f\"We have {len(VALID_METRICS['brute'])} distance metrics in KNN sklearn class.\")"
   ]
  },
  {
   "cell_type": "code",
   "execution_count": 36,
   "id": "a676bb32",
   "metadata": {
    "ExecuteTime": {
     "end_time": "2022-10-04T18:35:29.431890Z",
     "start_time": "2022-10-04T18:35:29.429753Z"
    }
   },
   "outputs": [],
   "source": [
    "METRICS = VALID_METRICS['brute']"
   ]
  },
  {
   "cell_type": "code",
   "execution_count": 50,
   "id": "9bb1cb82",
   "metadata": {
    "ExecuteTime": {
     "end_time": "2022-10-04T18:37:30.127609Z",
     "start_time": "2022-10-04T18:37:30.123763Z"
    }
   },
   "outputs": [
    {
     "data": {
      "text/plain": [
       "['braycurtis',\n",
       " 'canberra',\n",
       " 'chebyshev',\n",
       " 'cityblock',\n",
       " 'correlation',\n",
       " 'cosine',\n",
       " 'dice',\n",
       " 'euclidean',\n",
       " 'hamming',\n",
       " 'haversine',\n",
       " 'jaccard',\n",
       " 'kulsinski',\n",
       " 'l1',\n",
       " 'l2',\n",
       " 'mahalanobis',\n",
       " 'manhattan',\n",
       " 'matching',\n",
       " 'minkowski',\n",
       " 'nan_euclidean',\n",
       " 'precomputed',\n",
       " 'rogerstanimoto',\n",
       " 'russellrao',\n",
       " 'seuclidean',\n",
       " 'sokalmichener',\n",
       " 'sokalsneath',\n",
       " 'sqeuclidean',\n",
       " 'yule']"
      ]
     },
     "execution_count": 50,
     "metadata": {},
     "output_type": "execute_result"
    }
   ],
   "source": [
    "VALID_METRICS['brute']"
   ]
  },
  {
   "cell_type": "markdown",
   "id": "51060d91",
   "metadata": {},
   "source": [
    "## CFG"
   ]
  },
  {
   "cell_type": "code",
   "execution_count": 85,
   "id": "6d73c1c5",
   "metadata": {
    "ExecuteTime": {
     "end_time": "2022-10-04T18:42:22.193090Z",
     "start_time": "2022-10-04T18:42:22.190288Z"
    }
   },
   "outputs": [],
   "source": [
    "METRICS = ['cityblock', \n",
    "           'cosine', \n",
    "           'euclidean',\n",
    "#            'haversine', 'seuclidean', COMPUTA NAN\n",
    "#            'mahalanobis', COMPUTA NAN PARA TEST\n",
    "           'minkowski',   # bom valor de treino\n",
    "#            'precomputed', DA ERRO NESSA\n",
    "           'sqeuclidean', # bom valor de test\n",
    "           'l1', 'l2', 'manhattan',\n",
    "           'nan_euclidean', 'hamming', 'braycurtis',\n",
    "           'canberra', 'chebyshev', 'correlation',\n",
    "           'dice', 'jaccard', 'kulsinski', \n",
    "           'yule', 'matching', 'rogerstanimoto',\n",
    "           'russellrao', 'sokalmichener',  'sokalsneath']\n",
    "\n",
    "K = 5\n",
    "FOLDS = 5"
   ]
  },
  {
   "cell_type": "code",
   "execution_count": 86,
   "id": "a16ff5eb",
   "metadata": {
    "ExecuteTime": {
     "end_time": "2022-10-04T18:42:22.385527Z",
     "start_time": "2022-10-04T18:42:22.382692Z"
    }
   },
   "outputs": [],
   "source": [
    "METRICS.sort()"
   ]
  },
  {
   "cell_type": "code",
   "execution_count": 87,
   "id": "f52d4ba7",
   "metadata": {
    "ExecuteTime": {
     "end_time": "2022-10-04T18:42:22.531910Z",
     "start_time": "2022-10-04T18:42:22.528277Z"
    }
   },
   "outputs": [
    {
     "data": {
      "text/plain": [
       "['braycurtis',\n",
       " 'canberra',\n",
       " 'chebyshev',\n",
       " 'cityblock',\n",
       " 'correlation',\n",
       " 'cosine',\n",
       " 'dice',\n",
       " 'euclidean',\n",
       " 'hamming',\n",
       " 'jaccard',\n",
       " 'kulsinski',\n",
       " 'l1',\n",
       " 'l2',\n",
       " 'manhattan',\n",
       " 'matching',\n",
       " 'minkowski',\n",
       " 'nan_euclidean',\n",
       " 'rogerstanimoto',\n",
       " 'russellrao',\n",
       " 'sokalmichener',\n",
       " 'sokalsneath',\n",
       " 'sqeuclidean',\n",
       " 'yule']"
      ]
     },
     "execution_count": 87,
     "metadata": {},
     "output_type": "execute_result"
    }
   ],
   "source": [
    "METRICS"
   ]
  },
  {
   "cell_type": "markdown",
   "id": "479f16e9",
   "metadata": {},
   "source": [
    "## Pipeline"
   ]
  },
  {
   "cell_type": "code",
   "execution_count": 88,
   "id": "751bd9c0",
   "metadata": {
    "ExecuteTime": {
     "end_time": "2022-10-04T18:42:23.413767Z",
     "start_time": "2022-10-04T18:42:23.411331Z"
    }
   },
   "outputs": [],
   "source": [
    "# Create pipeline steps\n",
    "steps = [(\"knn\", KNeighborsClassifier(n_neighbors = K))]\n",
    "\n",
    "#instantiate pipeline \n",
    "pipe = Pipeline(steps=steps)"
   ]
  },
  {
   "cell_type": "markdown",
   "id": "b3012ff2",
   "metadata": {},
   "source": [
    "## GridSearchCV"
   ]
  },
  {
   "cell_type": "code",
   "execution_count": 91,
   "id": "fa558d33",
   "metadata": {
    "ExecuteTime": {
     "end_time": "2022-10-04T18:55:13.406725Z",
     "start_time": "2022-10-04T18:55:11.684548Z"
    }
   },
   "outputs": [
    {
     "name": "stdout",
     "output_type": "stream",
     "text": [
      "Pipeline(steps=[('knn', KNeighborsClassifier(metric='canberra'))])\n"
     ]
    },
    {
     "data": {
      "text/html": [
       "<div>\n",
       "<style scoped>\n",
       "    .dataframe tbody tr th:only-of-type {\n",
       "        vertical-align: middle;\n",
       "    }\n",
       "\n",
       "    .dataframe tbody tr th {\n",
       "        vertical-align: top;\n",
       "    }\n",
       "\n",
       "    .dataframe thead th {\n",
       "        text-align: right;\n",
       "    }\n",
       "</style>\n",
       "<table border=\"1\" class=\"dataframe\">\n",
       "  <thead>\n",
       "    <tr style=\"text-align: right;\">\n",
       "      <th></th>\n",
       "      <th>distance</th>\n",
       "      <th>mean_train_score</th>\n",
       "      <th>mean_test_score</th>\n",
       "    </tr>\n",
       "  </thead>\n",
       "  <tbody>\n",
       "    <tr>\n",
       "      <th>0</th>\n",
       "      <td>braycurtis</td>\n",
       "      <td>0.963162</td>\n",
       "      <td>0.946760</td>\n",
       "    </tr>\n",
       "    <tr>\n",
       "      <th>1</th>\n",
       "      <td>canberra</td>\n",
       "      <td>0.980570</td>\n",
       "      <td>0.962562</td>\n",
       "    </tr>\n",
       "    <tr>\n",
       "      <th>2</th>\n",
       "      <td>chebyshev</td>\n",
       "      <td>0.952179</td>\n",
       "      <td>0.940097</td>\n",
       "    </tr>\n",
       "    <tr>\n",
       "      <th>3</th>\n",
       "      <td>cityblock</td>\n",
       "      <td>0.963521</td>\n",
       "      <td>0.946760</td>\n",
       "    </tr>\n",
       "    <tr>\n",
       "      <th>4</th>\n",
       "      <td>correlation</td>\n",
       "      <td>0.958079</td>\n",
       "      <td>0.939395</td>\n",
       "    </tr>\n",
       "    <tr>\n",
       "      <th>5</th>\n",
       "      <td>cosine</td>\n",
       "      <td>0.954581</td>\n",
       "      <td>0.939479</td>\n",
       "    </tr>\n",
       "    <tr>\n",
       "      <th>6</th>\n",
       "      <td>dice</td>\n",
       "      <td>0.771058</td>\n",
       "      <td>0.771052</td>\n",
       "    </tr>\n",
       "    <tr>\n",
       "      <th>7</th>\n",
       "      <td>euclidean</td>\n",
       "      <td>0.958639</td>\n",
       "      <td>0.943823</td>\n",
       "    </tr>\n",
       "    <tr>\n",
       "      <th>8</th>\n",
       "      <td>hamming</td>\n",
       "      <td>0.862099</td>\n",
       "      <td>0.787085</td>\n",
       "    </tr>\n",
       "    <tr>\n",
       "      <th>9</th>\n",
       "      <td>jaccard</td>\n",
       "      <td>0.771058</td>\n",
       "      <td>0.771052</td>\n",
       "    </tr>\n",
       "    <tr>\n",
       "      <th>10</th>\n",
       "      <td>kulsinski</td>\n",
       "      <td>0.771058</td>\n",
       "      <td>0.771052</td>\n",
       "    </tr>\n",
       "    <tr>\n",
       "      <th>11</th>\n",
       "      <td>l1</td>\n",
       "      <td>0.963521</td>\n",
       "      <td>0.946760</td>\n",
       "    </tr>\n",
       "    <tr>\n",
       "      <th>12</th>\n",
       "      <td>l2</td>\n",
       "      <td>0.958639</td>\n",
       "      <td>0.943823</td>\n",
       "    </tr>\n",
       "    <tr>\n",
       "      <th>13</th>\n",
       "      <td>manhattan</td>\n",
       "      <td>0.963521</td>\n",
       "      <td>0.946760</td>\n",
       "    </tr>\n",
       "    <tr>\n",
       "      <th>14</th>\n",
       "      <td>matching</td>\n",
       "      <td>0.771058</td>\n",
       "      <td>0.771052</td>\n",
       "    </tr>\n",
       "    <tr>\n",
       "      <th>15</th>\n",
       "      <td>minkowski</td>\n",
       "      <td>0.958639</td>\n",
       "      <td>0.943823</td>\n",
       "    </tr>\n",
       "    <tr>\n",
       "      <th>16</th>\n",
       "      <td>nan_euclidean</td>\n",
       "      <td>0.958639</td>\n",
       "      <td>0.943823</td>\n",
       "    </tr>\n",
       "    <tr>\n",
       "      <th>17</th>\n",
       "      <td>rogerstanimoto</td>\n",
       "      <td>0.771058</td>\n",
       "      <td>0.771052</td>\n",
       "    </tr>\n",
       "    <tr>\n",
       "      <th>18</th>\n",
       "      <td>russellrao</td>\n",
       "      <td>0.771058</td>\n",
       "      <td>0.771052</td>\n",
       "    </tr>\n",
       "    <tr>\n",
       "      <th>19</th>\n",
       "      <td>sokalmichener</td>\n",
       "      <td>0.771058</td>\n",
       "      <td>0.771052</td>\n",
       "    </tr>\n",
       "    <tr>\n",
       "      <th>20</th>\n",
       "      <td>sokalsneath</td>\n",
       "      <td>0.771058</td>\n",
       "      <td>0.771052</td>\n",
       "    </tr>\n",
       "    <tr>\n",
       "      <th>21</th>\n",
       "      <td>sqeuclidean</td>\n",
       "      <td>0.958639</td>\n",
       "      <td>0.943823</td>\n",
       "    </tr>\n",
       "    <tr>\n",
       "      <th>22</th>\n",
       "      <td>yule</td>\n",
       "      <td>0.771058</td>\n",
       "      <td>0.771052</td>\n",
       "    </tr>\n",
       "  </tbody>\n",
       "</table>\n",
       "</div>"
      ],
      "text/plain": [
       "          distance  mean_train_score  mean_test_score\n",
       "0       braycurtis          0.963162         0.946760\n",
       "1         canberra          0.980570         0.962562\n",
       "2        chebyshev          0.952179         0.940097\n",
       "3        cityblock          0.963521         0.946760\n",
       "4      correlation          0.958079         0.939395\n",
       "5           cosine          0.954581         0.939479\n",
       "6             dice          0.771058         0.771052\n",
       "7        euclidean          0.958639         0.943823\n",
       "8          hamming          0.862099         0.787085\n",
       "9          jaccard          0.771058         0.771052\n",
       "10       kulsinski          0.771058         0.771052\n",
       "11              l1          0.963521         0.946760\n",
       "12              l2          0.958639         0.943823\n",
       "13       manhattan          0.963521         0.946760\n",
       "14        matching          0.771058         0.771052\n",
       "15       minkowski          0.958639         0.943823\n",
       "16   nan_euclidean          0.958639         0.943823\n",
       "17  rogerstanimoto          0.771058         0.771052\n",
       "18      russellrao          0.771058         0.771052\n",
       "19   sokalmichener          0.771058         0.771052\n",
       "20     sokalsneath          0.771058         0.771052\n",
       "21     sqeuclidean          0.958639         0.943823\n",
       "22            yule          0.771058         0.771052"
      ]
     },
     "execution_count": 91,
     "metadata": {},
     "output_type": "execute_result"
    }
   ],
   "source": [
    "# Create params for the cv - k \n",
    "params = {}\n",
    "params['knn__metric'] = METRICS\n",
    "\n",
    "grid = GridSearchCV(pipe, params, scoring='f1', cv=FOLDS, return_train_score=True)\n",
    "\n",
    "grid.fit(X,y)\n",
    "\n",
    "print(grid.best_estimator_)\n",
    "\n",
    "results = pd.DataFrame(grid.cv_results_)[['param_knn__metric', \n",
    "                                'mean_train_score', \n",
    "                                'mean_test_score']].sort_values('param_knn__metric').rename(columns={'param_knn__metric':'distance'})\n",
    "results"
   ]
  },
  {
   "cell_type": "code",
   "execution_count": 106,
   "id": "ddf53f1b",
   "metadata": {
    "ExecuteTime": {
     "end_time": "2022-10-04T18:58:52.480297Z",
     "start_time": "2022-10-04T18:58:52.476849Z"
    }
   },
   "outputs": [
    {
     "name": "stdout",
     "output_type": "stream",
     "text": [
      "Best distance metric for this data is 'canberra', with 0.963 of accuracy.\n"
     ]
    }
   ],
   "source": [
    "print(f\"Best distance metric for this data is '{results.loc[results['mean_test_score'].idxmax(), 'distance']}', with {results['mean_test_score'].max():.3f} of accuracy.\")"
   ]
  },
  {
   "cell_type": "code",
   "execution_count": null,
   "id": "4d5f332b",
   "metadata": {},
   "outputs": [],
   "source": []
  }
 ],
 "metadata": {
  "kernelspec": {
   "display_name": "Python 3 (ipykernel)",
   "language": "python",
   "name": "python3"
  },
  "language_info": {
   "codemirror_mode": {
    "name": "ipython",
    "version": 3
   },
   "file_extension": ".py",
   "mimetype": "text/x-python",
   "name": "python",
   "nbconvert_exporter": "python",
   "pygments_lexer": "ipython3",
   "version": "3.10.5"
  }
 },
 "nbformat": 4,
 "nbformat_minor": 5
}
