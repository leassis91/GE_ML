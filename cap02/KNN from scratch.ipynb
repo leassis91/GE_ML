{
 "cells": [
  {
   "cell_type": "markdown",
   "id": "3d41e8f3",
   "metadata": {},
   "source": [
    "# KNN from Scratch\n",
    "\n",
    "### Article source: [Create a KNN from scratch](https://towardsdatascience.com/create-your-own-k-nearest-neighbors-algorithm-in-python-eb7093fc6339)"
   ]
  },
  {
   "cell_type": "markdown",
   "id": "468c6502",
   "metadata": {
    "heading_collapsed": true
   },
   "source": [
    "## Imports"
   ]
  },
  {
   "cell_type": "code",
   "execution_count": 11,
   "id": "49b439dc",
   "metadata": {
    "ExecuteTime": {
     "end_time": "2022-10-04T18:10:05.793087Z",
     "start_time": "2022-10-04T18:10:05.427695Z"
    },
    "hidden": true
   },
   "outputs": [],
   "source": [
    "import pandas as pd\n",
    "import numpy as np\n",
    "import matplotlib.pyplot as plt\n",
    "from sklearn import datasets\n",
    "from sklearn.model_selection import train_test_split\n",
    "from sklearn.preprocessing import StandardScaler"
   ]
  },
  {
   "cell_type": "markdown",
   "id": "1317f820",
   "metadata": {
    "heading_collapsed": true
   },
   "source": [
    "## Unpacking Dataset"
   ]
  },
  {
   "cell_type": "code",
   "execution_count": 4,
   "id": "c7bb62f0",
   "metadata": {
    "ExecuteTime": {
     "end_time": "2022-10-04T18:01:41.537850Z",
     "start_time": "2022-10-04T18:01:41.529703Z"
    },
    "hidden": true
   },
   "outputs": [],
   "source": [
    "iris = datasets.load_iris()\n",
    "X = iris['data']\n",
    "y = iris['target']\n",
    "\n",
    "# Preprocess data\n",
    "X = StandardScaler().fit_transform(X)\n",
    "\n",
    "# Splikt data into train & test\n",
    "X_train, X_test, y_train, y_test = train_test_split(X, y, test_size=.2)"
   ]
  },
  {
   "cell_type": "markdown",
   "id": "56af789e",
   "metadata": {},
   "source": [
    "## Model Creation"
   ]
  },
  {
   "cell_type": "markdown",
   "id": "bc5796b5",
   "metadata": {},
   "source": [
    "### Helper Functions"
   ]
  },
  {
   "cell_type": "code",
   "execution_count": 9,
   "id": "066f435a",
   "metadata": {
    "ExecuteTime": {
     "end_time": "2022-10-04T18:09:48.123576Z",
     "start_time": "2022-10-04T18:09:48.120720Z"
    }
   },
   "outputs": [],
   "source": [
    "def most_common(lst):\n",
    "    \"\"\"\n",
    "    Returns the most common element in a list.\n",
    "    \"\"\"\n",
    "    return max(set(lst), key=lst.count)\n",
    "\n",
    "def euclidean(point, data):\n",
    "    \"\"\"\n",
    "    Returns the euclidean distance between a point and data.\n",
    "    \"\"\"\n",
    "    return np.sqrt(np.sum((point - data)**2, axis=1))"
   ]
  },
  {
   "cell_type": "markdown",
   "id": "99b0e592",
   "metadata": {},
   "source": [
    "### Implementation"
   ]
  },
  {
   "cell_type": "code",
   "execution_count": 7,
   "id": "f3442f0c",
   "metadata": {
    "ExecuteTime": {
     "end_time": "2022-10-04T18:07:36.849515Z",
     "start_time": "2022-10-04T18:07:36.845780Z"
    }
   },
   "outputs": [],
   "source": [
    "class KNeighborsClassifierScratch():\n",
    "    def __init__(self, k=5, dist_metric=euclidean):\n",
    "        self.k = k\n",
    "        self.dist_metric = dist_metric\n",
    "        \n",
    "    def fit(self, X_train, y_train):\n",
    "        self.X_train = X_train\n",
    "        self.y_train = y_train\n",
    "        \n",
    "    def predict(self, X_test):\n",
    "        neighbors = []\n",
    "        for x in X_test:\n",
    "            distances = self.dist_metric(x, self.X_train)\n",
    "            y_sorted = [y for _, y in sorted(zip(distances, self.y_train))]\n",
    "            neighbors.append(y_sorted[:self.k])\n",
    "            \n",
    "        return list(map(most_common, neighbors))\n",
    "    \n",
    "    def score(self, X_test, y_test):\n",
    "        y_pred = self.predict(X_test)\n",
    "        accuracy = sum(y_pred == y_test) / len(y_test)\n",
    "        return accuracy"
   ]
  },
  {
   "cell_type": "code",
   "execution_count": 14,
   "id": "6408ca7c",
   "metadata": {
    "ExecuteTime": {
     "end_time": "2022-10-04T18:10:49.584781Z",
     "start_time": "2022-10-04T18:10:49.471864Z"
    }
   },
   "outputs": [
    {
     "data": {
      "image/png": "[encoded data removed]",
      "text/plain": [
       "<Figure size 432x288 with 1 Axes>"
      ]
     },
     "metadata": {
      "needs_background": "light"
     },
     "output_type": "display_data"
    },
    {
     "data": {
      "text/plain": [
       "<Figure size 1080x864 with 0 Axes>"
      ]
     },
     "metadata": {},
     "output_type": "display_data"
    }
   ],
   "source": [
    "accuracies = []\n",
    "ks = range(1,30)\n",
    "for k in ks:\n",
    "    knn = KNeighborsClassifierScratch(k=k)\n",
    "    knn.fit(X_train, y_train)\n",
    "    accuracy = knn.score(X_test, y_test)\n",
    "    accuracies.append(accuracy)\n",
    "    \n",
    "fig, ax = plt.subplots()\n",
    "ax.plot(ks, accuracies)\n",
    "ax.set(xlabel=\"k\",\n",
    "       ylabel=\"Accuracy\",\n",
    "       title=\"Performance of KNN\")\n",
    "plt.figure(figsize=(15,12))\n",
    "plt.show()"
   ]
  },
  {
   "cell_type": "code",
   "execution_count": null,
   "id": "1f9e6e10",
   "metadata": {},
   "outputs": [],
   "source": []
  },
  {
   "cell_type": "markdown",
   "id": "79f9afa6",
   "metadata": {},
   "source": [
    "### Helper Functions"
   ]
  },
  {
   "cell_type": "code",
   "execution_count": null,
   "id": "240adb35",
   "metadata": {},
   "outputs": [],
   "source": []
  }
 ],
 "metadata": {
  "kernelspec": {
   "display_name": "Python 3 (ipykernel)",
   "language": "python",
   "name": "python3"
  },
  "language_info": {
   "codemirror_mode": {
    "name": "ipython",
    "version": 3
   },
   "file_extension": ".py",
   "mimetype": "text/x-python",
   "name": "python",
   "nbconvert_exporter": "python",
   "pygments_lexer": "ipython3",
   "version": "3.10.5"
  }
 },
 "nbformat": 4,
 "nbformat_minor": 5
}
